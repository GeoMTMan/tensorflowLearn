{
 "cells": [
  {
   "cell_type": "code",
   "execution_count": 1,
   "metadata": {},
   "outputs": [],
   "source": [
    "import tensorflow as tf\n",
    "import numpy as np\n",
    "import matplotlib.pyplot as plt"
   ]
  },
  {
   "cell_type": "code",
   "execution_count": 2,
   "metadata": {},
   "outputs": [
    {
     "name": "stdout",
     "output_type": "stream",
     "text": [
      "x_data: [0.37435198 0.48058382 0.11828341 0.27376166 0.9176139  0.7512571\n 0.17839138 0.517198   0.665958   0.3826973  0.5942883  0.06387194\n 0.45199123 0.24267371 0.89966863 0.26443997 0.85657513 0.92721444\n 0.38436332 0.7114914  0.34464687 0.31610942 0.05437949 0.80319333\n 0.6354762  0.63369364 0.9478998  0.55468524 0.02310752 0.48821625\n 0.21282835 0.9765005  0.02608222 0.232432   0.7146189  0.9194492\n 0.17572959 0.3193839  0.57491684 0.6802205  0.79558444 0.7748817\n 0.5359623  0.7568235  0.16110474 0.26124886 0.68717366 0.6778606\n 0.35134932 0.44632477 0.9156142  0.8406481  0.64106154 0.3157219\n 0.37505266 0.40293017 0.37594393 0.46706012 0.6859647  0.0251984\n 0.746152   0.43272522 0.6920047  0.16811337 0.45104703 0.63899463\n 0.6271371  0.089919   0.19314997 0.84360474 0.9656617  0.26152903\n 0.94173795 0.00954432 0.5903009  0.7955272  0.92193466 0.8221368\n 0.56701875 0.03891789 0.8750489  0.681023   0.6157782  0.23817533\n 0.37891346 0.6512057  0.31458595 0.6703456  0.74345076 0.99450827\n 0.86653966 0.5044413  0.27927423 0.8868478  0.2769276  0.79174554\n 0.2962437  0.53486264 0.10078329 0.1416041 ]\n"
     ]
    },
    {
     "data": {
      "text/plain": [
       "<function matplotlib.pyplot.show(*args, **kw)>"
      ]
     },
     "execution_count": 2,
     "metadata": {},
     "output_type": "execute_result"
    }
   ],
   "source": [
    "# creat data\n",
    "x_data = np.random.rand(100).astype(np.float32)\n",
    "print('x_data:',x_data)\n",
    "y_data = x_data*0.1 + 0.3\n",
    "plt.plot(x_data,y_data)\n",
    "plt.xlabel('x_data')\n",
    "plt.ylabel('y_data')\n",
    "plt.show"
   ]
  },
  {
   "cell_type": "code",
   "execution_count": 3,
   "metadata": {},
   "outputs": [],
   "source": [
    "# create tensorflow structure start\n",
    "Weights = tf.Variable(tf.random_uniform([1],-1.0,1.0))\n",
    "\n",
    "biases = tf.Variable(tf.zeros([1]))\n",
    "\n",
    "y = Weights*x_data + biases\n",
    "\n",
    "loss = tf.reduce_mean(tf.square(y-y_data))\n",
    "optimizer = tf.train.GradientDescentOptimizer(0.5)\n",
    "train = optimizer.minimize(loss)\n",
    "                      \n",
    "init = tf.global_variables_initializer()\n",
    "# create tensorflow structrue end"
   ]
  },
  {
   "cell_type": "code",
   "execution_count": 4,
   "metadata": {},
   "outputs": [],
   "source": [
    "sess = tf.Session()\n",
    "sess.run(init)  # very important"
   ]
  },
  {
   "cell_type": "code",
   "execution_count": 6,
   "metadata": {},
   "outputs": [
    {
     "name": "stdout",
     "output_type": "stream",
     "text": [
      "0 [0.10000207] [0.29999888]\n50 [0.1000001] [0.29999995]\n100 [0.1000001] [0.29999995]\n150 [0.1000001] [0.29999995]\n200 [0.1000001] [0.29999995]\n"
     ]
    },
    {
     "data": {
      "text/plain": [
       "<function matplotlib.pyplot.show(*args, **kw)>"
      ]
     },
     "execution_count": 6,
     "metadata": {},
     "output_type": "execute_result"
    }
   ],
   "source": [
    "wb = np.empty([201,2],dtype = float)\n",
    "k = 0\n",
    "for step in range(201):\n",
    "    sess.run(train)\n",
    "    wb[k][0] = (sess.run(Weights))[0]\n",
    "    wb[k][1] = (sess.run(biases))[0]\n",
    "    k = k+1\n",
    "    if step%50 == 0:\n",
    "        print(step,sess.run(Weights),sess.run(biases))\n",
    "\n",
    "plt.plot(np.arange(0,201),wb[:,0])\n",
    "plt.plot(np.arange(0,201),wb[:,1])\n",
    "plt.show\n",
    "\n",
    "        "
   ]
  },
  {
   "cell_type": "code",
   "execution_count": null,
   "metadata": {},
   "outputs": [],
   "source": [
    "        "
   ]
  },
  {
   "cell_type": "code",
   "execution_count": null,
   "metadata": {},
   "outputs": [],
   "source": []
  },
  {
   "cell_type": "code",
   "execution_count": null,
   "metadata": {},
   "outputs": [],
   "source": []
  }
 ],
 "metadata": {
  "kernelspec": {
   "display_name": "Python 3",
   "language": "python",
   "name": "python3"
  },
  "language_info": {
   "codemirror_mode": {
    "name": "ipython",
    "version": 3
   },
   "file_extension": ".py",
   "mimetype": "text/x-python",
   "name": "python",
   "nbconvert_exporter": "python",
   "pygments_lexer": "ipython3",
   "version": "3.7.4"
  }
 },
 "nbformat": 4,
 "nbformat_minor": 2
}
